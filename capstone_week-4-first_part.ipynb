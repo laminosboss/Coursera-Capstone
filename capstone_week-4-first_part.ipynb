{
 "cells": [
  {
   "cell_type": "markdown",
   "metadata": {},
   "source": [
    "# Recommendation of a Manhattan Neighborhood for a Restaurant Location"
   ]
  },
  {
   "cell_type": "markdown",
   "metadata": {},
   "source": [
    "## 1- Introduction"
   ]
  },
  {
   "cell_type": "markdown",
   "metadata": {},
   "source": [
    "The business problem that is addressed in this project is the choosing of a Manhattan neighborhood to install a restaurant of a specific cousine or type. Some variables influence the location of a restaurant in an area, such as: population density, median household income, median rent and number of restaurants already established. It can be argued that as the numbers of competitor restaurants increases it becomes more and more advisable to choose another area. Therefore, it is the only mentioned variable that its increase reduces the chance of success of a new restaurant. "
   ]
  },
  {
   "cell_type": "markdown",
   "metadata": {},
   "source": [
    "## 2- Data"
   ]
  },
  {
   "cell_type": "markdown",
   "metadata": {},
   "source": [
    "It has been utilized four sources of data. For the latitude and longitude of Manhattan neighborhoods it has been used the file newyork_data.json provided in the Lab \"Segmenting and Clustering Neighborhoods in New York City\" (week 3). It has been obtained from the address http://www.city-data.com/indexes/neighborhoods/NY/1/, by means of web scraping, the data of population, area, median household income and median rent for each Manhattan neighborhood. Finally, the Foursquare API provided the types and names of venues in each neighborhood using the \"explore\" endpoint. It is known that the Foursquare API provides the types and names of venues by means of defining a latitude/longitude and a radius of search. The radius of a neighborhood, which is considered as the radius of search for the Foursquare API, has been obtained by means of its area using the circle area formula. The latitude/longitude given to the Foursquare API for the retrievel of the types and names of venues in a neighborhood is the one found in the mentioned file newyork_data.json."
   ]
  }
 ],
 "metadata": {
  "kernelspec": {
   "display_name": "Python 3",
   "language": "python",
   "name": "python3"
  },
  "language_info": {
   "codemirror_mode": {
    "name": "ipython",
    "version": 3
   },
   "file_extension": ".py",
   "mimetype": "text/x-python",
   "name": "python",
   "nbconvert_exporter": "python",
   "pygments_lexer": "ipython3",
   "version": "3.7.3"
  }
 },
 "nbformat": 4,
 "nbformat_minor": 2
}
